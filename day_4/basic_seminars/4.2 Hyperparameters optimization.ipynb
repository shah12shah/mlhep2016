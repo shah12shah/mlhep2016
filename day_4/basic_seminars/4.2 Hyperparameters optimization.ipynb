{
 "cells": [
  {
   "cell_type": "markdown",
   "metadata": {},
   "source": [
    "# Hyperparameters optimization\n",
    "Your good old optimization problem on cross-validation score (it has no gradient and is not guaranteed to be convex).\n",
    "1. Each cross-validation is *very* expensive\n",
    "2. The more information you use, the better.\n",
    "3. Some points take longer than the others to compute.\n",
    "4. Many approaches.\n",
    "\n",
    "If done hard enough in a big enough parameter space, will overfit."
   ]
  },
  {
   "cell_type": "code",
   "execution_count": 1,
   "metadata": {
    "collapsed": false
   },
   "outputs": [
    {
     "name": "stdout",
     "output_type": "stream",
     "text": [
      "Obtaining bayes-opt from git+git://github.com/fmfn/BayesianOptimization#egg=bayes_opt\n",
      "  Cloning git://github.com/fmfn/BayesianOptimization to ./src/bayes-opt\n",
      "\u001b[33m  Running setup.py (path:/notebooks/day_4/basic_seminars/src/bayes-opt/setup.py) egg_info for package bayes-opt produced metadata for project name bayesian-optimization. Fix your #egg=bayes-opt fragments.\u001b[0m\n",
      "Requirement already satisfied (use --upgrade to upgrade): numpy>=1.9.0 in /root/miniconda/envs/rep_py2/lib/python2.7/site-packages (from bayesian-optimization)\n",
      "Requirement already satisfied (use --upgrade to upgrade): scipy>=0.14.0 in /root/miniconda/envs/rep_py2/lib/python2.7/site-packages (from bayesian-optimization)\n",
      "Requirement already satisfied (use --upgrade to upgrade): scikit-learn>=0.16.1 in /root/miniconda/envs/rep_py2/lib/python2.7/site-packages (from bayesian-optimization)\n",
      "Installing collected packages: bayesian-optimization\n",
      "  Running setup.py develop for bayesian-optimization\n",
      "Successfully installed bayesian-optimization\n",
      "\u001b[33mYou are using pip version 8.1.1, however version 8.1.2 is available.\n",
      "You should consider upgrading via the 'pip install --upgrade pip' command.\u001b[0m\n"
     ]
    }
   ],
   "source": [
    "! pip install -e git+git://github.com/fmfn/BayesianOptimization#egg=bayes_opt"
   ]
  },
  {
   "cell_type": "code",
   "execution_count": 2,
   "metadata": {
    "collapsed": false
   },
   "outputs": [
    {
     "name": "stdout",
     "output_type": "stream",
     "text": [
      "Collecting pip\n",
      "  Downloading pip-8.1.2-py2.py3-none-any.whl (1.2MB)\n",
      "\u001b[K    100% |################################| 1.2MB 1.0MB/s \n",
      "\u001b[?25hInstalling collected packages: pip\n",
      "  Found existing installation: pip 8.1.1\n",
      "    Uninstalling pip-8.1.1:\n",
      "      Successfully uninstalled pip-8.1.1\n",
      "Successfully installed pip-8.1.2\n"
     ]
    }
   ],
   "source": [
    "!pip install --upgrade pip"
   ]
  },
  {
   "cell_type": "code",
   "execution_count": 2,
   "metadata": {
    "collapsed": true
   },
   "outputs": [],
   "source": [
    "import numpy as np\n",
    "import pandas as pd\n",
    "import matplotlib.pyplot as plt\n",
    "%matplotlib inline"
   ]
  },
  {
   "cell_type": "code",
   "execution_count": 3,
   "metadata": {
    "collapsed": false
   },
   "outputs": [
    {
     "data": {
      "text/plain": [
       "<matplotlib.collections.PathCollection at 0x7fa58f7f8fd0>"
      ]
     },
     "execution_count": 3,
     "metadata": {},
     "output_type": "execute_result"
    },
    {
     "name": "stderr",
     "output_type": "stream",
     "text": [
      "/root/miniconda/envs/rep_py2/lib/python2.7/site-packages/matplotlib/collections.py:590: FutureWarning: elementwise comparison failed; returning scalar instead, but in the future will perform elementwise comparison\n",
      "  if self._edgecolors == str('face'):\n"
     ]
    },
    {
     "data": {
      "image/png": "[encoded data removed]",
      "text/plain": [
       "<matplotlib.figure.Figure at 0x7fa58f545390>"
      ]
     },
     "metadata": {},
     "output_type": "display_data"
    }
   ],
   "source": [
    "np.random.seed(42)\n",
    "x_space = np.random.uniform(0, 1, size=60)\n",
    "y0 = x_space + 0.2 + np.random.normal(size=len(x_space), scale=0.1)\n",
    "y1 = x_space + np.random.normal(size=len(x_space), scale=0.1)\n",
    "shuffle = np.random.permutation(2*len(x_space))\n",
    "line_features = np.concatenate((np.concatenate((x_space, x_space))[:, np.newaxis],\n",
    "                          np.concatenate((y0, y1))[:, np.newaxis]), axis=1)[shuffle]\n",
    "line_labels = np.concatenate((np.zeros(len(y0)), np.ones(len(y1))))[shuffle]\n",
    "fig, ax = plt.subplots()\n",
    "ax.scatter(line_features[:, 0], line_features[:, 1], c=line_labels, edgecolors='none', s=100)"
   ]
  },
  {
   "cell_type": "markdown",
   "metadata": {},
   "source": [
    "## Exhaustive GridSearch\n",
    "Tries all parameters combinations. Is expensive."
   ]
  },
  {
   "cell_type": "code",
   "execution_count": 4,
   "metadata": {
    "collapsed": false
   },
   "outputs": [
    {
     "data": {
      "text/plain": [
       "GridSearchCV(cv=4, error_score='raise',\n",
       "       estimator=RandomForestClassifier(bootstrap=True, class_weight=None, criterion='gini',\n",
       "            max_depth=None, max_features='auto', max_leaf_nodes=None,\n",
       "            min_samples_leaf=1, min_samples_split=2,\n",
       "            min_weight_fraction_leaf=0.0, n_estimators=10, n_jobs=1,\n",
       "            oob_score=False, random_state=2, verbose=0, warm_start=False),\n",
       "       fit_params={}, iid=True, n_jobs=4,\n",
       "       param_grid={'min_samples_split': (2, 3, 4, 5, 10), 'n_estimators': (1, 10, 50, 100), 'criterion': ('gini', 'entropy'), 'max_depth': (1, 5, None)},\n",
       "       pre_dispatch='2*n_jobs', refit=True, scoring='roc_auc', verbose=0)"
      ]
     },
     "execution_count": 4,
     "metadata": {},
     "output_type": "execute_result"
    }
   ],
   "source": [
    "from sklearn.grid_search import GridSearchCV\n",
    "from sklearn.ensemble import RandomForestClassifier\n",
    "grid_search_cv = GridSearchCV(RandomForestClassifier(random_state=2), {\n",
    "        'criterion': ('gini', 'entropy'),\n",
    "        'max_depth': (1, 5, None),\n",
    "        'min_samples_split': (2, 3, 4, 5, 10),\n",
    "        'n_estimators': (1, 10, 50, 100)}, scoring='roc_auc', n_jobs=4, cv=4)\n",
    "grid_search_cv.fit(line_features, line_labels)"
   ]
  },
  {
   "cell_type": "markdown",
   "metadata": {},
   "source": [
    "Let's see how the score was improved compared to the default parameters."
   ]
  },
  {
   "cell_type": "code",
   "execution_count": 5,
   "metadata": {
    "collapsed": false
   },
   "outputs": [
    {
     "name": "stdout",
     "output_type": "stream",
     "text": [
      "Evaluated CV score 120 times.\n",
      "Best score: 0.728889.\n",
      "Score with default parametes: 0.629167\n"
     ]
    },
    {
     "data": {
      "text/plain": [
       "RandomForestClassifier(bootstrap=True, class_weight=None, criterion='gini',\n",
       "            max_depth=None, max_features='auto', max_leaf_nodes=None,\n",
       "            min_samples_leaf=1, min_samples_split=5,\n",
       "            min_weight_fraction_leaf=0.0, n_estimators=50, n_jobs=1,\n",
       "            oob_score=False, random_state=2, verbose=0, warm_start=False)"
      ]
     },
     "execution_count": 5,
     "metadata": {},
     "output_type": "execute_result"
    }
   ],
   "source": [
    "from sklearn.cross_validation import cross_val_score\n",
    "print(\"Evaluated CV score %d times.\" % len(grid_search_cv.grid_scores_))\n",
    "print(\"Best score: %f.\" % grid_search_cv.best_score_)\n",
    "print(\"Score with default parametes: %f\" % \n",
    "      cross_val_score(RandomForestClassifier(random_state=2, n_jobs=4),\n",
    "                      line_features, line_labels, scoring='roc_auc').mean())\n",
    "grid_search_cv.best_estimator_"
   ]
  },
  {
   "cell_type": "markdown",
   "metadata": {},
   "source": [
    "Here are the scores obtained during the search. Note inefficiency - many times we calculated the points that yielded no improvement."
   ]
  },
  {
   "cell_type": "code",
   "execution_count": 6,
   "metadata": {
    "collapsed": false
   },
   "outputs": [
    {
     "data": {
      "image/png": "[encoded data removed]",
      "text/plain": [
       "<matplotlib.figure.Figure at 0x7fa58f537c50>"
      ]
     },
     "metadata": {},
     "output_type": "display_data"
    }
   ],
   "source": [
    "grid_values = map(lambda score_list: score_list.mean_validation_score, grid_search_cv.grid_scores_)\n",
    "_=plt.hist(grid_values, bins=35)"
   ]
  },
  {
   "cell_type": "markdown",
   "metadata": {},
   "source": [
    "## Regressor-based search\n",
    "1. Fits a regressor on all evaluated points\n",
    "2. Uses an optimization algorithm to find the extremum of the regressor. Please note that REP operates on the grid points.\n",
    "3. Evaluates cross-validation in the regressor extremum\n",
    "4. GoTo 1"
   ]
  },
  {
   "cell_type": "code",
   "execution_count": 7,
   "metadata": {
    "collapsed": false
   },
   "outputs": [],
   "source": [
    "from rep.metaml import RegressionParameterOptimizer, GridOptimalSearchCV, FoldingScorer\n",
    "from sklearn.ensemble import RandomForestRegressor\n",
    "from sklearn.metrics import roc_auc_score\n",
    "from rep.report.metrics import RocAuc\n",
    "\n",
    "scorer = FoldingScorer(RocAuc(), folds=4, fold_checks=4)\n",
    "grid = {'criterion': ('gini', 'entropy'),\n",
    "        'max_depth': (1, 5, None),\n",
    "        'min_samples_split': (2, 3, 4, 5, 10),\n",
    "        'n_estimators': (1, 10, 50, 100)}\n",
    "generator = RegressionParameterOptimizer(grid, n_evaluations=70,\n",
    "            regressor=RandomForestRegressor(), n_attempts=10)"
   ]
  },
  {
   "cell_type": "code",
   "execution_count": 8,
   "metadata": {
    "collapsed": false
   },
   "outputs": [
    {
     "name": "stdout",
     "output_type": "stream",
     "text": [
      "Performing grid search in 4 threads\n",
      "4 evaluations done\n",
      "8 evaluations done\n",
      "12 evaluations done\n",
      "16 evaluations done\n",
      "20 evaluations done\n",
      "24 evaluations done\n",
      "28 evaluations done\n",
      "32 evaluations done\n",
      "36 evaluations done\n",
      "40 evaluations done\n",
      "44 evaluations done\n",
      "48 evaluations done\n",
      "52 evaluations done\n",
      "56 evaluations done\n",
      "60 evaluations done\n",
      "64 evaluations done\n",
      "68 evaluations done\n",
      "72 evaluations done\n"
     ]
    },
    {
     "data": {
      "text/plain": [
       "<rep.metaml.gridsearch.GridOptimalSearchCV at 0x7fa58f537510>"
      ]
     },
     "execution_count": 8,
     "metadata": {},
     "output_type": "execute_result"
    }
   ],
   "source": [
    "grid_finder = GridOptimalSearchCV(RandomForestClassifier(random_state=2),\n",
    "                                  generator, scorer, parallel_profile='threads-4')\n",
    "grid_finder.fit(pd.DataFrame(line_features), line_labels)"
   ]
  },
  {
   "cell_type": "code",
   "execution_count": 9,
   "metadata": {
    "collapsed": false
   },
   "outputs": [
    {
     "data": {
      "text/plain": [
       "0.72888888888888892"
      ]
     },
     "execution_count": 9,
     "metadata": {},
     "output_type": "execute_result"
    }
   ],
   "source": [
    "grid_finder.params_generator.best_score_"
   ]
  },
  {
   "cell_type": "markdown",
   "metadata": {},
   "source": [
    "Found the same point in 70 iterations instead of 120."
   ]
  },
  {
   "cell_type": "markdown",
   "metadata": {},
   "source": [
    "## Gaussian process\n",
    "Fancy regressor - it can handle uncertainty."
   ]
  },
  {
   "cell_type": "markdown",
   "metadata": {
    "collapsed": true
   },
   "source": [
    "A Gaussian process optimizer not stuck to the grid.\n",
    "https://github.com/fmfn/BayesianOptimization/blob/master/examples/sklearn_example.py"
   ]
  },
  {
   "cell_type": "code",
   "execution_count": 10,
   "metadata": {
    "collapsed": false
   },
   "outputs": [
    {
     "name": "stdout",
     "output_type": "stream",
     "text": [
      "\u001b[31mInitialization\u001b[0m\n",
      "\u001b[94m------------------------------------------------------------------------------------------------\u001b[0m\n",
      " Step |   Time |      Value |   criterion |   max_depth |   min_samples_split |   n_estimators | \n",
      "    1 | 00m00s | \u001b[35m   0.65167\u001b[0m | \u001b[32m    -0.0816\u001b[0m | \u001b[32m   297.4899\u001b[0m | \u001b[32m             9.4598\u001b[0m | \u001b[32m       22.6060\u001b[0m | \n",
      "    2 | 00m00s | \u001b[35m   0.72000\u001b[0m | \u001b[32m    -0.1778\u001b[0m | \u001b[32m   541.8282\u001b[0m | \u001b[32m             5.1400\u001b[0m | \u001b[32m       81.9324\u001b[0m | \n",
      "    3 | 00m00s |    0.71889 |      0.4439 |    345.8847 |              6.6944 |        79.6358 | \n",
      "    4 | 00m00s |    0.69444 |     -0.2304 |    414.7867 |              9.1504 |        64.2217 | \n",
      "    5 | 00m00s |    0.67500 |     -0.0212 |    732.6815 |              9.9594 |        38.3520 | \n",
      "    6 | 00m00s |    0.68333 |     -0.1408 |    881.7808 |              5.1030 |        28.1499 | \n",
      "    7 | 00m00s |    0.66722 |      0.4813 |    122.3739 |              6.1566 |        24.1784 | \n",
      "    8 | 00m00s |    0.70111 |      0.7259 |    635.0046 |              5.7306 |        32.8609 | \n",
      "    9 | 00m00s |    0.69222 |      0.0638 |    582.5617 |              2.1193 |        91.3558 | \n",
      "   10 | 00m00s |    0.60111 |      0.5789 |    119.2966 |              4.6635 |         8.7641 | \n",
      "\u001b[31mBayesian Optimization\u001b[0m\n",
      "\u001b[94m------------------------------------------------------------------------------------------------\u001b[0m\n",
      " Step |   Time |      Value |   criterion |   max_depth |   min_samples_split |   n_estimators | \n",
      "   11 | 00m12s |    0.71333 |      0.1152 |    446.9637 |              5.9430 |        80.4723 | \n",
      "   12 | 00m01s |    0.70222 |     -0.0958 |    985.8195 |              9.8539 |        95.1048 | \n",
      "   13 | 00m10s |    0.71889 |     -0.1661 |    539.6886 |              4.5634 |        78.3994 | \n",
      "   14 | 00m10s | \u001b[35m   0.72000\u001b[0m | \u001b[32m    -0.0880\u001b[0m | \u001b[32m   644.1572\u001b[0m | \u001b[32m             5.8484\u001b[0m | \u001b[32m       76.8411\u001b[0m | \n",
      "   15 | 00m10s |    0.71667 |     -0.1562 |    484.1503 |              5.9353 |        74.4339 | \n",
      "   16 | 00m10s | \u001b[35m   0.72111\u001b[0m | \u001b[32m     0.3798\u001b[0m | \u001b[32m   486.8492\u001b[0m | \u001b[32m             6.6419\u001b[0m | \u001b[32m       72.4687\u001b[0m | \n",
      "   17 | 00m11s |    0.71556 |      0.4057 |    392.7573 |              5.7062 |        69.4843 | \n",
      "   18 | 00m09s | \u001b[35m   0.72667\u001b[0m | \u001b[32m     0.4477\u001b[0m | \u001b[32m   492.0472\u001b[0m | \u001b[32m             6.1020\u001b[0m | \u001b[32m       83.4049\u001b[0m | \n",
      "   19 | 00m09s |    0.72000 |      0.6097 |    491.7128 |              6.4849 |        77.9168 | \n",
      "   20 | 00m09s |    0.70667 |      0.3392 |    624.8691 |              5.6022 |        79.6673 | \n",
      "   21 | 00m07s | \u001b[35m   0.73111\u001b[0m | \u001b[32m     0.4429\u001b[0m | \u001b[32m   476.6342\u001b[0m | \u001b[32m             6.9233\u001b[0m | \u001b[32m       90.6268\u001b[0m | \n",
      "   22 | 00m09s |    0.73000 |      0.5012 |    436.9076 |              6.3898 |        98.8153 | \n",
      "   23 | 00m07s |    0.72667 |      0.3637 |    447.8095 |              6.5251 |        97.2650 | \n",
      "   24 | 00m06s |    0.73111 |      0.4829 |    441.3232 |              6.5788 |        90.4487 | \n",
      "   25 | 00m06s |    0.72556 |      0.5055 |    509.7858 |              6.5983 |        96.5530 | \n",
      "   26 | 00m07s |    0.72556 |      0.4951 |    413.2838 |              7.2879 |        99.2430 | \n",
      "   27 | 00m06s |    0.72222 |      0.5264 |    385.8844 |              5.5222 |        94.2017 | \n",
      "   28 | 00m06s |    0.72000 |      0.3096 |    480.0407 |              7.7271 |        88.8617 | \n",
      "   29 | 00m06s |    0.72667 |      0.6508 |    387.2983 |              6.5135 |        97.4081 | \n",
      "   30 | 00m05s |    0.73000 |      0.5133 |    345.4079 |              6.4445 |       101.0000 | \n",
      "   31 | 00m06s |    0.72889 |      0.5598 |    337.8248 |              6.4158 |        93.0736 | \n",
      "   32 | 00m07s |    0.73000 |      0.6425 |    257.6185 |              6.2622 |       101.0000 | \n",
      "   33 | 00m06s |    0.73000 |      0.6114 |    250.2360 |              6.9547 |       101.0000 | \n",
      "   34 | 00m07s |    0.73000 |      0.5252 |    227.3076 |              6.4767 |       101.0000 | \n",
      "   35 | 00m05s |    0.72889 |      0.6319 |    195.7462 |              6.5900 |        93.8374 | \n",
      "   36 | 00m05s |    0.73000 |      0.5890 |    257.3943 |              6.5757 |        98.0989 | \n",
      "   37 | 00m06s |    0.73000 |      0.6319 |    174.5323 |              6.6182 |       101.0000 | \n",
      "   38 | 00m05s |    0.73000 |      0.7794 |    222.2134 |              6.8114 |       101.0000 | \n",
      "   39 | 00m05s |    0.73000 |      0.7866 |    184.2169 |              6.1542 |       100.6590 | \n",
      "   40 | 00m06s |    0.73000 |      0.7442 |    237.9505 |              6.4339 |        99.1730 | \n",
      "   41 | 00m06s |    0.72333 |      0.8092 |    137.8054 |              6.6581 |        95.2695 | \n",
      "   42 | 00m05s |    0.72444 |      0.6217 |    162.4686 |              5.8052 |       101.0000 | \n",
      "   43 | 00m05s |    0.72889 |      0.4060 |    478.2354 |              6.7059 |        87.2990 | \n",
      "   44 | 00m05s |    0.71556 |      0.5129 |    463.6819 |              7.2453 |        86.6228 | \n",
      "   45 | 00m06s |    0.73000 |      0.9327 |    243.9800 |              6.1487 |       101.0000 | \n",
      "   46 | 00m07s |    0.72333 |      0.4285 |    450.8860 |              6.8885 |        95.3982 | \n",
      "   47 | 00m07s |    0.73111 |      0.4610 |    503.5754 |              6.5562 |        90.3909 | \n",
      "   48 | 00m06s |    0.72444 |      0.3766 |    411.6469 |              5.9234 |       101.0000 | \n",
      "   49 | 00m07s |    0.72889 |      0.4713 |    431.3122 |              6.1624 |        92.7388 | \n",
      "   50 | 00m06s |    0.72444 |      0.8291 |    278.3658 |              5.6392 |       101.0000 | \n",
      "   51 | 00m07s |    0.71889 |      0.3414 |    570.7468 |              7.0807 |        90.8420 | \n",
      "   52 | 00m06s |    0.72778 |      0.6177 |    339.7404 |              7.6190 |       101.0000 | \n",
      "   53 | 00m07s |    0.72778 |      0.4445 |    285.6205 |              7.4764 |       101.0000 | \n",
      "   54 | 00m06s | \u001b[35m   0.73333\u001b[0m | \u001b[32m     0.4500\u001b[0m | \u001b[32m   231.4507\u001b[0m | \u001b[32m             6.1846\u001b[0m | \u001b[32m       91.8030\u001b[0m | \n",
      "   55 | 00m06s |    0.72889 |      0.4169 |    118.7142 |              6.5312 |        92.5279 | \n",
      "   56 | 00m05s |    0.72889 |      0.3910 |    225.4673 |              6.6524 |        93.1338 | \n",
      "   57 | 00m06s |    0.72889 |      0.5038 |    177.1329 |              6.0474 |        87.7464 | \n",
      "   58 | 00m06s |    0.72778 |      0.4830 |    185.3787 |              6.2489 |        94.3426 | \n",
      "   59 | 00m07s |    0.72111 |      0.3923 |    262.5603 |              5.9780 |        87.7980 | \n",
      "   60 | 00m05s |    0.73222 |      0.4980 |    239.2127 |              6.3796 |        89.7357 | \n",
      "-----------------------------------------------------\n",
      "Final Results\n",
      "RFC: 0.733333\n"
     ]
    }
   ],
   "source": [
    "from __future__ import print_function\n",
    "from __future__ import division\n",
    "\n",
    "from bayes_opt import BayesianOptimization\n",
    "def rfccv(n_estimators, min_samples_split, max_depth, criterion):\n",
    "    return cross_val_score(RandomForestClassifier(\n",
    "            n_estimators=int(n_estimators),\n",
    "            min_samples_split=int(min_samples_split),\n",
    "            max_depth=int(max_depth),\n",
    "            criterion=('gini' if criterion <= 0 else 'entropy'),\n",
    "            random_state=2),\n",
    "                           line_features, line_labels, scoring=\"roc_auc\",\n",
    "                           cv=4, n_jobs=4).mean()\n",
    "\n",
    "rfcBO = BayesianOptimization(rfccv, {'n_estimators': (1, 101),\n",
    "                                     'min_samples_split': (2, 11),\n",
    "                                     'max_depth': (1, 1000),\n",
    "                                     'criterion': (-1, 1)})\n",
    "rfcBO.maximize(init_points=10, n_iter=50)\n",
    "print('-'*53)\n",
    "print('Final Results')\n",
    "print('RFC: %f' % rfcBO.res['max']['max_val'])"
   ]
  },
  {
   "cell_type": "markdown",
   "metadata": {},
   "source": [
    "Better result in 60 instead of 120 iterations. But please note the need to evaluate the Gaussian process which takes some time independently of the CV complexity and is the determining factor for the real speed on this toy problem."
   ]
  }
 ],
 "metadata": {
  "kernelspec": {
   "display_name": "Python 2",
   "language": "python",
   "name": "python2"
  },
  "language_info": {
   "codemirror_mode": {
    "name": "ipython",
    "version": 2
   },
   "file_extension": ".py",
   "mimetype": "text/x-python",
   "name": "python",
   "nbconvert_exporter": "python",
   "pygments_lexer": "ipython2",
   "version": "2.7.11"
  }
 },
 "nbformat": 4,
 "nbformat_minor": 0
}
